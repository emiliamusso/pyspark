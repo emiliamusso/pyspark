{
  "nbformat": 4,
  "nbformat_minor": 0,
  "metadata": {
    "colab": {
      "provenance": [],
      "include_colab_link": true
    },
    "kernelspec": {
      "name": "python3",
      "display_name": "Python 3"
    },
    "language_info": {
      "name": "python"
    }
  },
  "cells": [
    {
      "cell_type": "markdown",
      "metadata": {
        "id": "view-in-github",
        "colab_type": "text"
      },
      "source": [
        "<a href=\"https://colab.research.google.com/github/emiliamusso/pyspark/blob/main/API_Estructurada_PySpark.ipynb\" target=\"_parent\"><img src=\"https://colab.research.google.com/assets/colab-badge.svg\" alt=\"Open In Colab\"/></a>"
      ]
    },
    {
      "cell_type": "code",
      "source": [
        "!pip install pyspark -q"
      ],
      "metadata": {
        "id": "DORclqBQDT3y"
      },
      "execution_count": null,
      "outputs": []
    },
    {
      "cell_type": "markdown",
      "source": [
        "# Descarguemos la data con la que trabajaremos\n",
        "Ejecuta la celda nada mas"
      ],
      "metadata": {
        "id": "PrjoH0fVDkUT"
      }
    },
    {
      "cell_type": "code",
      "source": [
        "from zipfile import ZipFile\n",
        "import requests\n",
        "\n",
        "with open(\"./credit_cards_data.zip\", \"wb\") as f:\n",
        "    f.write(requests.get(\"https://github.com/engcarlosperezmolero/resources_and_tools/blob/main/data/csv/credit_cards_data.zip?raw=true\").content)\n",
        "\n",
        "zip_ref = ZipFile(f\"/content/credit_cards_data.zip\")\n",
        "zip_ref.extractall()\n",
        "zip_ref.close()"
      ],
      "metadata": {
        "id": "lg3b4tXcDkY9"
      },
      "execution_count": null,
      "outputs": []
    },
    {
      "cell_type": "markdown",
      "source": [
        "### application_record.csv\n",
        "|Columna| Explicacion|\n",
        "|-------|------------|\n",
        "|ID |\tClient number\t|\n",
        "|CODE_GENDER |\tGender\t|\n",
        "|FLAG_OWN_CAR |\tIs there a car\t|\n",
        "|FLAG_OWN_REALTY |\tIs there a property\t|\n",
        "|CNT_CHILDREN |\tNumber of children\t|\n",
        "|AMT_INCOME_TOTAL |\tAnnual income\t|\n",
        "|NAME_INCOME_TYPE |\tIncome category\t|\n",
        "|NAME_EDUCATION_TYPE |\tEducation level\t|\n",
        "|NAME_FAMILY_STATUS |\tMarital status\t|\n",
        "|NAME_HOUSING_TYPE |\tWay of living\t|\n",
        "|DAYS_BIRTH |\tBirthday\tCount backwards from current day (0), -1 means yesterday|\n",
        "|DAYS_EMPLOYED |\tStart date of employment\tCount backwards from current day(0). If positive, it means the person currently unemployed. |\n",
        "|FLAG_MOBIL |\tIs there a mobile phone\t|\n",
        "|FLAG_WORK_PHONE |\tIs there a work phone\t|\n",
        "|FLAG_PHONE |\tIs there a phone\t|\n",
        "|FLAG_EMAIL |\tIs there an email\t|\n",
        "|OCCUPATION_TYPE |\tOccupation\t|\n",
        "|CNT_FAM_MEMBERS |\tFamily size\t|\n",
        "\n"
      ],
      "metadata": {
        "id": "3OwdiK4g0wSG"
      }
    },
    {
      "cell_type": "markdown",
      "source": [
        "### credit_record.csv\n",
        "|Columna|Explicacion|\n",
        "|-------|------------|\n",
        "|ID     |\tClient number\t|\n",
        "|MONTHS_BALANCE|Record month The month of the extracted data is the starting point, backwards, 0 is the current month, -1 is the previous month, and so on|\n",
        "|STATUS|\tStatus\t0: 1-29 days past due 1: 30-59 days past due 2: 60-89 days overdue 3: 90-119 days overdue 4: 120-149 days overdue 5: Overdue or bad debts, write-offs for more than 150 days C: paid off that month X: No loan for the month|\n",
        "|TOY_STATUS|3 estados de juguete que nos permitiran practicar. Los valores son: good, bad, regular|"
      ],
      "metadata": {
        "id": "bPsZlYnx3f5X"
      }
    },
    {
      "cell_type": "markdown",
      "source": [
        "### Rutas a los archivos\n",
        "```'/content/credit_cards_data/application_record.csv'```\n",
        "\n",
        "```'/content/credit_cards_data/credit_records_toy.csv'```\n"
      ],
      "metadata": {
        "id": "ASHhukpI18yE"
      }
    },
    {
      "cell_type": "markdown",
      "source": [
        "# Cree la sesion de Spark donde la aplicacion se llame como usted desee."
      ],
      "metadata": {
        "id": "utU2uwfrCWT5"
      }
    },
    {
      "cell_type": "code",
      "source": [
        "import pyspark\n",
        "from pyspark.sql import SparkSession"
      ],
      "metadata": {
        "id": "XJ2bSXNUChA9"
      },
      "execution_count": null,
      "outputs": []
    },
    {
      "cell_type": "code",
      "source": [
        "spark = SparkSession.builder\\\n",
        "        .master(\"local[*]\")\\\n",
        "        .appName(\"Ejercicio Api Estructurada Humai\")\\\n",
        "        .getOrCreate()"
      ],
      "metadata": {
        "id": "iyq5bhExd-pK"
      },
      "execution_count": null,
      "outputs": []
    },
    {
      "cell_type": "markdown",
      "source": [
        "# Lee los archivos dejando que spark infiera los tipos de las columnas. Como se ven los datos?"
      ],
      "metadata": {
        "id": "oyec1o6Q5isO"
      }
    },
    {
      "cell_type": "code",
      "source": [
        "app_record = spark.read.csv(pyspark.SparkFiles.get('/content/credit_cards_data/application_record.csv'), header=True, inferSchema=True)\n",
        "credit_df = spark.read.csv('/content/credit_cards_data/credit_records_toy.csv', header=True, inferSchema=True)"
      ],
      "metadata": {
        "id": "GcJPxveiCkB7"
      },
      "execution_count": null,
      "outputs": []
    },
    {
      "cell_type": "code",
      "source": [
        "app_record.show(5, truncate=False)"
      ],
      "metadata": {
        "id": "Jln7qF2ReiPo",
        "colab": {
          "base_uri": "https://localhost:8080/"
        },
        "outputId": "ee8497a2-d0a2-463d-d1b0-6b54a8126213"
      },
      "execution_count": null,
      "outputs": [
        {
          "output_type": "stream",
          "name": "stdout",
          "text": [
            "+-------+-----------+------------+---------------+------------+----------------+--------------------+-----------------------------+--------------------+-----------------+----------+-------------+----------+---------------+----------+----------+---------------+---------------+\n",
            "|ID     |CODE_GENDER|FLAG_OWN_CAR|FLAG_OWN_REALTY|CNT_CHILDREN|AMT_INCOME_TOTAL|NAME_INCOME_TYPE    |NAME_EDUCATION_TYPE          |NAME_FAMILY_STATUS  |NAME_HOUSING_TYPE|DAYS_BIRTH|DAYS_EMPLOYED|FLAG_MOBIL|FLAG_WORK_PHONE|FLAG_PHONE|FLAG_EMAIL|OCCUPATION_TYPE|CNT_FAM_MEMBERS|\n",
            "+-------+-----------+------------+---------------+------------+----------------+--------------------+-----------------------------+--------------------+-----------------+----------+-------------+----------+---------------+----------+----------+---------------+---------------+\n",
            "|5008804|M          |Y           |Y              |0           |427500.0        |Working             |Higher education             |Civil marriage      |Rented apartment |-12005    |-4542        |1         |1              |0         |0         |NULL           |2.0            |\n",
            "|5008805|M          |Y           |Y              |0           |427500.0        |Working             |Higher education             |Civil marriage      |Rented apartment |-12005    |-4542        |1         |1              |0         |0         |NULL           |2.0            |\n",
            "|5008806|M          |Y           |Y              |0           |112500.0        |Working             |Secondary / secondary special|Married             |House / apartment|-21474    |-1134        |1         |0              |0         |0         |Security staff |2.0            |\n",
            "|5008808|F          |N           |Y              |0           |270000.0        |Commercial associate|Secondary / secondary special|Single / not married|House / apartment|-19110    |-3051        |1         |0              |1         |1         |Sales staff    |1.0            |\n",
            "|5008809|F          |N           |Y              |0           |270000.0        |Commercial associate|Secondary / secondary special|Single / not married|House / apartment|-19110    |-3051        |1         |0              |1         |1         |Sales staff    |1.0            |\n",
            "+-------+-----------+------------+---------------+------------+----------------+--------------------+-----------------------------+--------------------+-----------------+----------+-------------+----------+---------------+----------+----------+---------------+---------------+\n",
            "only showing top 5 rows\n",
            "\n"
          ]
        }
      ]
    },
    {
      "cell_type": "markdown",
      "source": [
        "# Como se ve el esquema?"
      ],
      "metadata": {
        "id": "qu3m6lVp5tIE"
      }
    },
    {
      "cell_type": "code",
      "source": [
        "app_record.printSchema()"
      ],
      "metadata": {
        "id": "TKj6FwxQ5vMy",
        "colab": {
          "base_uri": "https://localhost:8080/"
        },
        "outputId": "b43a1103-1e2c-4faf-9b8d-54d3076e9278"
      },
      "execution_count": null,
      "outputs": [
        {
          "output_type": "stream",
          "name": "stdout",
          "text": [
            "root\n",
            " |-- ID: integer (nullable = true)\n",
            " |-- CODE_GENDER: string (nullable = true)\n",
            " |-- FLAG_OWN_CAR: string (nullable = true)\n",
            " |-- FLAG_OWN_REALTY: string (nullable = true)\n",
            " |-- CNT_CHILDREN: integer (nullable = true)\n",
            " |-- AMT_INCOME_TOTAL: double (nullable = true)\n",
            " |-- NAME_INCOME_TYPE: string (nullable = true)\n",
            " |-- NAME_EDUCATION_TYPE: string (nullable = true)\n",
            " |-- NAME_FAMILY_STATUS: string (nullable = true)\n",
            " |-- NAME_HOUSING_TYPE: string (nullable = true)\n",
            " |-- DAYS_BIRTH: integer (nullable = true)\n",
            " |-- DAYS_EMPLOYED: integer (nullable = true)\n",
            " |-- FLAG_MOBIL: integer (nullable = true)\n",
            " |-- FLAG_WORK_PHONE: integer (nullable = true)\n",
            " |-- FLAG_PHONE: integer (nullable = true)\n",
            " |-- FLAG_EMAIL: integer (nullable = true)\n",
            " |-- OCCUPATION_TYPE: string (nullable = true)\n",
            " |-- CNT_FAM_MEMBERS: double (nullable = true)\n",
            "\n"
          ]
        }
      ]
    },
    {
      "cell_type": "markdown",
      "source": [
        "# Selecciona las primeras 3 columnas"
      ],
      "metadata": {
        "id": "IznCprUl6Hyk"
      }
    },
    {
      "cell_type": "code",
      "source": [
        "columnas = app_record.columns[:3]"
      ],
      "metadata": {
        "id": "xtRtr25RxJCA"
      },
      "execution_count": null,
      "outputs": []
    },
    {
      "cell_type": "code",
      "source": [
        "# usa el atributo .columns y slicing de listas\n",
        "nuevo_app_record = app_record.select(columnas)"
      ],
      "metadata": {
        "id": "_dmGsTSdgCF_"
      },
      "execution_count": null,
      "outputs": []
    },
    {
      "cell_type": "code",
      "source": [
        "#muestralas con un select\n",
        "nuevo_app_record.show()"
      ],
      "metadata": {
        "id": "wlBmLuvtfpWE",
        "colab": {
          "base_uri": "https://localhost:8080/"
        },
        "outputId": "b3c4f9a8-f180-4c4c-921e-006687e6681f"
      },
      "execution_count": null,
      "outputs": [
        {
          "output_type": "stream",
          "name": "stdout",
          "text": [
            "+-------+-----------+------------+\n",
            "|     ID|CODE_GENDER|FLAG_OWN_CAR|\n",
            "+-------+-----------+------------+\n",
            "|5008804|          M|           Y|\n",
            "|5008805|          M|           Y|\n",
            "|5008806|          M|           Y|\n",
            "|5008808|          F|           N|\n",
            "|5008809|          F|           N|\n",
            "|5008810|          F|           N|\n",
            "|5008811|          F|           N|\n",
            "|5008812|          F|           N|\n",
            "|5008813|          F|           N|\n",
            "|5008814|          F|           N|\n",
            "|5008815|          M|           Y|\n",
            "|5112956|          M|           Y|\n",
            "|6153651|          M|           Y|\n",
            "|5008819|          M|           Y|\n",
            "|5008820|          M|           Y|\n",
            "|5008821|          M|           Y|\n",
            "|5008822|          M|           Y|\n",
            "|5008823|          M|           Y|\n",
            "|5008824|          M|           Y|\n",
            "|5008825|          F|           Y|\n",
            "+-------+-----------+------------+\n",
            "only showing top 20 rows\n",
            "\n"
          ]
        }
      ]
    },
    {
      "cell_type": "markdown",
      "source": [
        "# Muestra un resumen estadistico de los datos numericos que podrian ser utiles"
      ],
      "metadata": {
        "id": "vO6voVp57ERT"
      }
    },
    {
      "cell_type": "code",
      "source": [
        "#mira la función summary\n",
        "app_record.select('AMT_INCOME_TOTAL').summary().show(truncate=False)"
      ],
      "metadata": {
        "id": "QIJ_CqBLg4vL",
        "colab": {
          "base_uri": "https://localhost:8080/"
        },
        "outputId": "7a90654e-2552-4114-b2ee-f4829a1e20b2"
      },
      "execution_count": null,
      "outputs": [
        {
          "output_type": "stream",
          "name": "stdout",
          "text": [
            "+-------+------------------+\n",
            "|summary|AMT_INCOME_TOTAL  |\n",
            "+-------+------------------+\n",
            "|count  |438557            |\n",
            "|mean   |187524.2860095039 |\n",
            "|stddev |110086.85306622987|\n",
            "|min    |26100.0           |\n",
            "|25%    |121500.0          |\n",
            "|50%    |160650.0          |\n",
            "|75%    |225000.0          |\n",
            "|max    |6750000.0         |\n",
            "+-------+------------------+\n",
            "\n"
          ]
        }
      ]
    },
    {
      "cell_type": "code",
      "source": [
        "#mira la función describe\n",
        "app_record.select('AMT_INCOME_TOTAL').describe().show(truncate=False)"
      ],
      "metadata": {
        "id": "dxQ05fPn6d5y",
        "colab": {
          "base_uri": "https://localhost:8080/"
        },
        "outputId": "ef718399-9fe6-4e08-bcda-4f5aacb9bf5e"
      },
      "execution_count": null,
      "outputs": [
        {
          "output_type": "stream",
          "name": "stdout",
          "text": [
            "+-------+------------------+\n",
            "|summary|AMT_INCOME_TOTAL  |\n",
            "+-------+------------------+\n",
            "|count  |438557            |\n",
            "|mean   |187524.2860095039 |\n",
            "|stddev |110086.85306622987|\n",
            "|min    |26100.0           |\n",
            "|max    |6750000.0         |\n",
            "+-------+------------------+\n",
            "\n"
          ]
        }
      ]
    },
    {
      "cell_type": "markdown",
      "source": [
        "# Formatea los numeros del anterior resultado usando las funciones de spark.sql que hay en F.\n",
        "\n",
        "nota: puedes usar ```dir(F)``` para tener una idea de que podria estar alli"
      ],
      "metadata": {
        "id": "_nyE0zgF45eN"
      }
    },
    {
      "cell_type": "code",
      "source": [
        "import pyspark.sql.functions as F"
      ],
      "metadata": {
        "id": "ZSddct4LhUI8"
      },
      "execution_count": null,
      "outputs": []
    },
    {
      "cell_type": "code",
      "source": [
        "dir(F)"
      ],
      "metadata": {
        "id": "7WfMfz3gx75H",
        "colab": {
          "base_uri": "https://localhost:8080/"
        },
        "outputId": "54c075fd-4c22-499c-e1ea-3a796f2aa745"
      },
      "execution_count": null,
      "outputs": [
        {
          "output_type": "execute_result",
          "data": {
            "text/plain": [
              "['Any',\n",
              " 'ArrayType',\n",
              " 'Callable',\n",
              " 'Column',\n",
              " 'DataFrame',\n",
              " 'DataType',\n",
              " 'Dict',\n",
              " 'Iterable',\n",
              " 'JVMView',\n",
              " 'List',\n",
              " 'Optional',\n",
              " 'PandasUDFType',\n",
              " 'PySparkTypeError',\n",
              " 'PySparkValueError',\n",
              " 'SparkContext',\n",
              " 'StringType',\n",
              " 'StructType',\n",
              " 'TYPE_CHECKING',\n",
              " 'Tuple',\n",
              " 'Type',\n",
              " 'Union',\n",
              " 'UserDefinedFunction',\n",
              " 'UserDefinedTableFunction',\n",
              " 'ValuesView',\n",
              " '__builtins__',\n",
              " '__cached__',\n",
              " '__doc__',\n",
              " '__file__',\n",
              " '__loader__',\n",
              " '__name__',\n",
              " '__package__',\n",
              " '__spec__',\n",
              " '_create_column_from_literal',\n",
              " '_create_lambda',\n",
              " '_create_py_udf',\n",
              " '_create_py_udtf',\n",
              " '_from_numpy_type',\n",
              " '_get_jvm_function',\n",
              " '_get_lambda_parameters',\n",
              " '_invoke_binary_math_function',\n",
              " '_invoke_function',\n",
              " '_invoke_function_over_columns',\n",
              " '_invoke_function_over_seq_of_columns',\n",
              " '_invoke_higher_order_function',\n",
              " '_options_to_str',\n",
              " '_test',\n",
              " '_to_java_column',\n",
              " '_to_seq',\n",
              " '_unresolved_named_lambda_variable',\n",
              " 'abs',\n",
              " 'acos',\n",
              " 'acosh',\n",
              " 'add_months',\n",
              " 'aes_decrypt',\n",
              " 'aes_encrypt',\n",
              " 'aggregate',\n",
              " 'any_value',\n",
              " 'approxCountDistinct',\n",
              " 'approx_count_distinct',\n",
              " 'approx_percentile',\n",
              " 'array',\n",
              " 'array_agg',\n",
              " 'array_append',\n",
              " 'array_compact',\n",
              " 'array_contains',\n",
              " 'array_distinct',\n",
              " 'array_except',\n",
              " 'array_insert',\n",
              " 'array_intersect',\n",
              " 'array_join',\n",
              " 'array_max',\n",
              " 'array_min',\n",
              " 'array_position',\n",
              " 'array_prepend',\n",
              " 'array_remove',\n",
              " 'array_repeat',\n",
              " 'array_size',\n",
              " 'array_sort',\n",
              " 'array_union',\n",
              " 'arrays_overlap',\n",
              " 'arrays_zip',\n",
              " 'asc',\n",
              " 'asc_nulls_first',\n",
              " 'asc_nulls_last',\n",
              " 'ascii',\n",
              " 'asin',\n",
              " 'asinh',\n",
              " 'assert_true',\n",
              " 'atan',\n",
              " 'atan2',\n",
              " 'atanh',\n",
              " 'avg',\n",
              " 'base64',\n",
              " 'bin',\n",
              " 'bit_and',\n",
              " 'bit_count',\n",
              " 'bit_get',\n",
              " 'bit_length',\n",
              " 'bit_or',\n",
              " 'bit_xor',\n",
              " 'bitmap_bit_position',\n",
              " 'bitmap_bucket_number',\n",
              " 'bitmap_construct_agg',\n",
              " 'bitmap_count',\n",
              " 'bitmap_or_agg',\n",
              " 'bitwiseNOT',\n",
              " 'bitwise_not',\n",
              " 'bool_and',\n",
              " 'bool_or',\n",
              " 'broadcast',\n",
              " 'bround',\n",
              " 'btrim',\n",
              " 'bucket',\n",
              " 'call_function',\n",
              " 'call_udf',\n",
              " 'cardinality',\n",
              " 'cast',\n",
              " 'cbrt',\n",
              " 'ceil',\n",
              " 'ceiling',\n",
              " 'char',\n",
              " 'char_length',\n",
              " 'character_length',\n",
              " 'coalesce',\n",
              " 'col',\n",
              " 'collect_list',\n",
              " 'collect_set',\n",
              " 'column',\n",
              " 'concat',\n",
              " 'concat_ws',\n",
              " 'contains',\n",
              " 'conv',\n",
              " 'convert_timezone',\n",
              " 'corr',\n",
              " 'cos',\n",
              " 'cosh',\n",
              " 'cot',\n",
              " 'count',\n",
              " 'countDistinct',\n",
              " 'count_distinct',\n",
              " 'count_if',\n",
              " 'count_min_sketch',\n",
              " 'covar_pop',\n",
              " 'covar_samp',\n",
              " 'crc32',\n",
              " 'create_map',\n",
              " 'csc',\n",
              " 'cume_dist',\n",
              " 'curdate',\n",
              " 'current_catalog',\n",
              " 'current_database',\n",
              " 'current_date',\n",
              " 'current_schema',\n",
              " 'current_timestamp',\n",
              " 'current_timezone',\n",
              " 'current_user',\n",
              " 'date_add',\n",
              " 'date_diff',\n",
              " 'date_format',\n",
              " 'date_from_unix_date',\n",
              " 'date_part',\n",
              " 'date_sub',\n",
              " 'date_trunc',\n",
              " 'dateadd',\n",
              " 'datediff',\n",
              " 'datepart',\n",
              " 'day',\n",
              " 'dayofmonth',\n",
              " 'dayofweek',\n",
              " 'dayofyear',\n",
              " 'days',\n",
              " 'decimal',\n",
              " 'decode',\n",
              " 'degrees',\n",
              " 'dense_rank',\n",
              " 'desc',\n",
              " 'desc_nulls_first',\n",
              " 'desc_nulls_last',\n",
              " 'e',\n",
              " 'element_at',\n",
              " 'elt',\n",
              " 'encode',\n",
              " 'endswith',\n",
              " 'equal_null',\n",
              " 'every',\n",
              " 'exists',\n",
              " 'exp',\n",
              " 'explode',\n",
              " 'explode_outer',\n",
              " 'expm1',\n",
              " 'expr',\n",
              " 'extract',\n",
              " 'factorial',\n",
              " 'filter',\n",
              " 'find_in_set',\n",
              " 'first',\n",
              " 'first_value',\n",
              " 'flatten',\n",
              " 'floor',\n",
              " 'forall',\n",
              " 'format_number',\n",
              " 'format_string',\n",
              " 'from_csv',\n",
              " 'from_json',\n",
              " 'from_unixtime',\n",
              " 'from_utc_timestamp',\n",
              " 'functools',\n",
              " 'get',\n",
              " 'get_active_spark_context',\n",
              " 'get_json_object',\n",
              " 'getbit',\n",
              " 'greatest',\n",
              " 'grouping',\n",
              " 'grouping_id',\n",
              " 'has_numpy',\n",
              " 'hash',\n",
              " 'hex',\n",
              " 'histogram_numeric',\n",
              " 'hll_sketch_agg',\n",
              " 'hll_sketch_estimate',\n",
              " 'hll_union',\n",
              " 'hll_union_agg',\n",
              " 'hour',\n",
              " 'hours',\n",
              " 'hypot',\n",
              " 'ifnull',\n",
              " 'ilike',\n",
              " 'initcap',\n",
              " 'inline',\n",
              " 'inline_outer',\n",
              " 'input_file_block_length',\n",
              " 'input_file_block_start',\n",
              " 'input_file_name',\n",
              " 'inspect',\n",
              " 'instr',\n",
              " 'isnan',\n",
              " 'isnotnull',\n",
              " 'isnull',\n",
              " 'java_method',\n",
              " 'json_array_length',\n",
              " 'json_object_keys',\n",
              " 'json_tuple',\n",
              " 'kurtosis',\n",
              " 'lag',\n",
              " 'last',\n",
              " 'last_day',\n",
              " 'last_value',\n",
              " 'lcase',\n",
              " 'lead',\n",
              " 'least',\n",
              " 'left',\n",
              " 'length',\n",
              " 'levenshtein',\n",
              " 'like',\n",
              " 'lit',\n",
              " 'ln',\n",
              " 'localtimestamp',\n",
              " 'locate',\n",
              " 'log',\n",
              " 'log10',\n",
              " 'log1p',\n",
              " 'log2',\n",
              " 'lower',\n",
              " 'lpad',\n",
              " 'ltrim',\n",
              " 'make_date',\n",
              " 'make_dt_interval',\n",
              " 'make_interval',\n",
              " 'make_timestamp',\n",
              " 'make_timestamp_ltz',\n",
              " 'make_timestamp_ntz',\n",
              " 'make_ym_interval',\n",
              " 'map_concat',\n",
              " 'map_contains_key',\n",
              " 'map_entries',\n",
              " 'map_filter',\n",
              " 'map_from_arrays',\n",
              " 'map_from_entries',\n",
              " 'map_keys',\n",
              " 'map_values',\n",
              " 'map_zip_with',\n",
              " 'mask',\n",
              " 'max',\n",
              " 'max_by',\n",
              " 'md5',\n",
              " 'mean',\n",
              " 'median',\n",
              " 'min',\n",
              " 'min_by',\n",
              " 'minute',\n",
              " 'mode',\n",
              " 'monotonically_increasing_id',\n",
              " 'month',\n",
              " 'months',\n",
              " 'months_between',\n",
              " 'named_struct',\n",
              " 'nanvl',\n",
              " 'negate',\n",
              " 'negative',\n",
              " 'next_day',\n",
              " 'now',\n",
              " 'np',\n",
              " 'nth_value',\n",
              " 'ntile',\n",
              " 'nullif',\n",
              " 'nvl',\n",
              " 'nvl2',\n",
              " 'octet_length',\n",
              " 'overlay',\n",
              " 'overload',\n",
              " 'pandas_udf',\n",
              " 'parse_url',\n",
              " 'percent_rank',\n",
              " 'percentile',\n",
              " 'percentile_approx',\n",
              " 'pi',\n",
              " 'pmod',\n",
              " 'posexplode',\n",
              " 'posexplode_outer',\n",
              " 'position',\n",
              " 'positive',\n",
              " 'pow',\n",
              " 'power',\n",
              " 'printf',\n",
              " 'product',\n",
              " 'quarter',\n",
              " 'radians',\n",
              " 'raise_error',\n",
              " 'rand',\n",
              " 'randn',\n",
              " 'rank',\n",
              " 'reduce',\n",
              " 'reflect',\n",
              " 'regexp',\n",
              " 'regexp_count',\n",
              " 'regexp_extract',\n",
              " 'regexp_extract_all',\n",
              " 'regexp_instr',\n",
              " 'regexp_like',\n",
              " 'regexp_replace',\n",
              " 'regexp_substr',\n",
              " 'regr_avgx',\n",
              " 'regr_avgy',\n",
              " 'regr_count',\n",
              " 'regr_intercept',\n",
              " 'regr_r2',\n",
              " 'regr_slope',\n",
              " 'regr_sxx',\n",
              " 'regr_sxy',\n",
              " 'regr_syy',\n",
              " 'repeat',\n",
              " 'replace',\n",
              " 'reverse',\n",
              " 'right',\n",
              " 'rint',\n",
              " 'rlike',\n",
              " 'round',\n",
              " 'row_number',\n",
              " 'rpad',\n",
              " 'rtrim',\n",
              " 'schema_of_csv',\n",
              " 'schema_of_json',\n",
              " 'sec',\n",
              " 'second',\n",
              " 'sentences',\n",
              " 'sequence',\n",
              " 'session_window',\n",
              " 'sha',\n",
              " 'sha1',\n",
              " 'sha2',\n",
              " 'shiftLeft',\n",
              " 'shiftRight',\n",
              " 'shiftRightUnsigned',\n",
              " 'shiftleft',\n",
              " 'shiftright',\n",
              " 'shiftrightunsigned',\n",
              " 'shuffle',\n",
              " 'sign',\n",
              " 'signum',\n",
              " 'sin',\n",
              " 'sinh',\n",
              " 'size',\n",
              " 'skewness',\n",
              " 'slice',\n",
              " 'some',\n",
              " 'sort_array',\n",
              " 'soundex',\n",
              " 'spark_partition_id',\n",
              " 'split',\n",
              " 'split_part',\n",
              " 'sqrt',\n",
              " 'stack',\n",
              " 'startswith',\n",
              " 'std',\n",
              " 'stddev',\n",
              " 'stddev_pop',\n",
              " 'stddev_samp',\n",
              " 'str_to_map',\n",
              " 'struct',\n",
              " 'substr',\n",
              " 'substring',\n",
              " 'substring_index',\n",
              " 'sum',\n",
              " 'sumDistinct',\n",
              " 'sum_distinct',\n",
              " 'sys',\n",
              " 'tan',\n",
              " 'tanh',\n",
              " 'timestamp_micros',\n",
              " 'timestamp_millis',\n",
              " 'timestamp_seconds',\n",
              " 'toDegrees',\n",
              " 'toRadians',\n",
              " 'to_binary',\n",
              " 'to_char',\n",
              " 'to_csv',\n",
              " 'to_date',\n",
              " 'to_json',\n",
              " 'to_number',\n",
              " 'to_str',\n",
              " 'to_timestamp',\n",
              " 'to_timestamp_ltz',\n",
              " 'to_timestamp_ntz',\n",
              " 'to_unix_timestamp',\n",
              " 'to_utc_timestamp',\n",
              " 'to_varchar',\n",
              " 'transform',\n",
              " 'transform_keys',\n",
              " 'transform_values',\n",
              " 'translate',\n",
              " 'trim',\n",
              " 'trunc',\n",
              " 'try_add',\n",
              " 'try_aes_decrypt',\n",
              " 'try_avg',\n",
              " 'try_divide',\n",
              " 'try_element_at',\n",
              " 'try_multiply',\n",
              " 'try_remote_functions',\n",
              " 'try_subtract',\n",
              " 'try_sum',\n",
              " 'try_to_binary',\n",
              " 'try_to_number',\n",
              " 'try_to_timestamp',\n",
              " 'typeof',\n",
              " 'ucase',\n",
              " 'udf',\n",
              " 'udtf',\n",
              " 'unbase64',\n",
              " 'unhex',\n",
              " 'unix_date',\n",
              " 'unix_micros',\n",
              " 'unix_millis',\n",
              " 'unix_seconds',\n",
              " 'unix_timestamp',\n",
              " 'unwrap_udt',\n",
              " 'upper',\n",
              " 'url_decode',\n",
              " 'url_encode',\n",
              " 'user',\n",
              " 'var_pop',\n",
              " 'var_samp',\n",
              " 'variance',\n",
              " 'version',\n",
              " 'warnings',\n",
              " 'weekday',\n",
              " 'weekofyear',\n",
              " 'when',\n",
              " 'width_bucket',\n",
              " 'window',\n",
              " 'window_time',\n",
              " 'xpath',\n",
              " 'xpath_boolean',\n",
              " 'xpath_double',\n",
              " 'xpath_float',\n",
              " 'xpath_int',\n",
              " 'xpath_long',\n",
              " 'xpath_number',\n",
              " 'xpath_short',\n",
              " 'xpath_string',\n",
              " 'xxhash64',\n",
              " 'year',\n",
              " 'years',\n",
              " 'zip_with']"
            ]
          },
          "metadata": {},
          "execution_count": 14
        }
      ]
    },
    {
      "cell_type": "code",
      "source": [
        "# de pyspark.sql.functions hay una function llamada format_number trata de usarla"
      ],
      "metadata": {
        "id": "9cQVlGT58AbP"
      },
      "execution_count": null,
      "outputs": []
    },
    {
      "cell_type": "code",
      "source": [
        "from pyspark.sql.functions import format_number, col"
      ],
      "metadata": {
        "id": "0JidI_vkhzHb"
      },
      "execution_count": null,
      "outputs": []
    },
    {
      "cell_type": "code",
      "source": [
        "#Resolucion:\n",
        "app_record.select('AMT_INCOME_TOTAL')\\\n",
        "          .describe()\\\n",
        "          .select(\n",
        "              \"summary\",\n",
        "              format_number(col(\"AMT_INCOME_TOTAL\").cast(\"Float\"), 2).alias(\"income_format\")\n",
        "          )\\\n",
        "          .show(10, False)\n"
      ],
      "metadata": {
        "id": "KpVj99fhhzM6",
        "colab": {
          "base_uri": "https://localhost:8080/"
        },
        "outputId": "86773020-9509-472a-9f5b-0c72b487cdfe"
      },
      "execution_count": null,
      "outputs": [
        {
          "output_type": "stream",
          "name": "stdout",
          "text": [
            "+-------+-------------+\n",
            "|summary|income_format|\n",
            "+-------+-------------+\n",
            "|count  |438,557.00   |\n",
            "|mean   |187,524.28   |\n",
            "|stddev |110,086.85   |\n",
            "|min    |26,100.00    |\n",
            "|max    |6,750,000.00 |\n",
            "+-------+-------------+\n",
            "\n"
          ]
        }
      ]
    },
    {
      "cell_type": "markdown",
      "source": [
        "# realiza una funcion que reciba un dataframe y retorne un dataframe donde la misma realice conteo de missing values para cada columna del dataframe de entrada (nulos y nan)"
      ],
      "metadata": {
        "id": "HWnCUswk8an2"
      }
    },
    {
      "cell_type": "code",
      "source": [
        "# podrias necesitar las siguientes funciones count, isnan, isnull, when, col y usar comprehension de listas dentro del .select()"
      ],
      "metadata": {
        "id": "JzEsxU_hCufs"
      },
      "execution_count": null,
      "outputs": []
    },
    {
      "cell_type": "code",
      "source": [
        "from pyspark.sql.functions import count, isnan, isnull, when, col"
      ],
      "metadata": {
        "id": "AYbiPSLnkCZO"
      },
      "execution_count": null,
      "outputs": []
    },
    {
      "cell_type": "code",
      "source": [
        "app_record.columns"
      ],
      "metadata": {
        "colab": {
          "base_uri": "https://localhost:8080/"
        },
        "id": "ILhq8SoJlEtf",
        "outputId": "64e777b7-345b-4747-b7bd-99006e22e3d0"
      },
      "execution_count": null,
      "outputs": [
        {
          "output_type": "execute_result",
          "data": {
            "text/plain": [
              "['ID',\n",
              " 'CODE_GENDER',\n",
              " 'FLAG_OWN_CAR',\n",
              " 'FLAG_OWN_REALTY',\n",
              " 'CNT_CHILDREN',\n",
              " 'AMT_INCOME_TOTAL',\n",
              " 'NAME_INCOME_TYPE',\n",
              " 'NAME_EDUCATION_TYPE',\n",
              " 'NAME_FAMILY_STATUS',\n",
              " 'NAME_HOUSING_TYPE',\n",
              " 'DAYS_BIRTH',\n",
              " 'DAYS_EMPLOYED',\n",
              " 'FLAG_MOBIL',\n",
              " 'FLAG_WORK_PHONE',\n",
              " 'FLAG_PHONE',\n",
              " 'FLAG_EMAIL',\n",
              " 'OCCUPATION_TYPE',\n",
              " 'CNT_FAM_MEMBERS']"
            ]
          },
          "metadata": {},
          "execution_count": 20
        }
      ]
    },
    {
      "cell_type": "code",
      "source": [
        "app_record.select([count(when(isnull(column), column)).alias(column) for column in app_record.columns]).show(10, False)"
      ],
      "metadata": {
        "id": "qsXlB1_7k218",
        "colab": {
          "base_uri": "https://localhost:8080/"
        },
        "outputId": "f8bd7ae1-bc55-4548-a9c6-a3cb2c31c7f1"
      },
      "execution_count": null,
      "outputs": [
        {
          "output_type": "stream",
          "name": "stdout",
          "text": [
            "+---+-----------+------------+---------------+------------+----------------+----------------+-------------------+------------------+-----------------+----------+-------------+----------+---------------+----------+----------+---------------+---------------+\n",
            "|ID |CODE_GENDER|FLAG_OWN_CAR|FLAG_OWN_REALTY|CNT_CHILDREN|AMT_INCOME_TOTAL|NAME_INCOME_TYPE|NAME_EDUCATION_TYPE|NAME_FAMILY_STATUS|NAME_HOUSING_TYPE|DAYS_BIRTH|DAYS_EMPLOYED|FLAG_MOBIL|FLAG_WORK_PHONE|FLAG_PHONE|FLAG_EMAIL|OCCUPATION_TYPE|CNT_FAM_MEMBERS|\n",
            "+---+-----------+------------+---------------+------------+----------------+----------------+-------------------+------------------+-----------------+----------+-------------+----------+---------------+----------+----------+---------------+---------------+\n",
            "|0  |0          |0           |0              |0           |0               |0               |0                  |0                 |0                |0         |0            |0         |0              |0         |0         |134203         |0              |\n",
            "+---+-----------+------------+---------------+------------+----------------+----------------+-------------------+------------------+-----------------+----------+-------------+----------+---------------+----------+----------+---------------+---------------+\n",
            "\n"
          ]
        }
      ]
    },
    {
      "cell_type": "code",
      "source": [
        "app_record.select([count(when(isnan(column) | isnull(column), column)).alias(column) for column in app_record.columns])"
      ],
      "metadata": {
        "id": "K8f4jLOpkChI",
        "colab": {
          "base_uri": "https://localhost:8080/"
        },
        "outputId": "7f439eec-f816-4151-fafa-8156cdd44766"
      },
      "execution_count": null,
      "outputs": [
        {
          "output_type": "execute_result",
          "data": {
            "text/plain": [
              "DataFrame[ID: bigint, CODE_GENDER: bigint, FLAG_OWN_CAR: bigint, FLAG_OWN_REALTY: bigint, CNT_CHILDREN: bigint, AMT_INCOME_TOTAL: bigint, NAME_INCOME_TYPE: bigint, NAME_EDUCATION_TYPE: bigint, NAME_FAMILY_STATUS: bigint, NAME_HOUSING_TYPE: bigint, DAYS_BIRTH: bigint, DAYS_EMPLOYED: bigint, FLAG_MOBIL: bigint, FLAG_WORK_PHONE: bigint, FLAG_PHONE: bigint, FLAG_EMAIL: bigint, OCCUPATION_TYPE: bigint, CNT_FAM_MEMBERS: bigint]"
            ]
          },
          "metadata": {},
          "execution_count": 22
        }
      ]
    },
    {
      "cell_type": "code",
      "source": [
        "# null -> None\n",
        "# nan -> float"
      ],
      "metadata": {
        "id": "8_77w7qykCj7"
      },
      "execution_count": null,
      "outputs": []
    },
    {
      "cell_type": "code",
      "source": [
        "def count_nan_and_nulls(spark_df):\n",
        "    return spark_df.select([count(when(isnan(column) | isnull(column), column)).alias(column) for column in spark_df.columns]).toPandas().rename({0: 'missinig_value_counts'}).T"
      ],
      "metadata": {
        "id": "pRI-Aj3gmqyY"
      },
      "execution_count": null,
      "outputs": []
    },
    {
      "cell_type": "code",
      "source": [
        "count_nan_and_nulls(app_record)"
      ],
      "metadata": {
        "id": "mH41qPcwmq12",
        "colab": {
          "base_uri": "https://localhost:8080/",
          "height": 613
        },
        "outputId": "1f8b6d31-ae91-42f8-93bc-1ce4a2f35c07"
      },
      "execution_count": null,
      "outputs": [
        {
          "output_type": "execute_result",
          "data": {
            "text/plain": [
              "                     missinig_value_counts\n",
              "ID                                       0\n",
              "CODE_GENDER                              0\n",
              "FLAG_OWN_CAR                             0\n",
              "FLAG_OWN_REALTY                          0\n",
              "CNT_CHILDREN                             0\n",
              "AMT_INCOME_TOTAL                         0\n",
              "NAME_INCOME_TYPE                         0\n",
              "NAME_EDUCATION_TYPE                      0\n",
              "NAME_FAMILY_STATUS                       0\n",
              "NAME_HOUSING_TYPE                        0\n",
              "DAYS_BIRTH                               0\n",
              "DAYS_EMPLOYED                            0\n",
              "FLAG_MOBIL                               0\n",
              "FLAG_WORK_PHONE                          0\n",
              "FLAG_PHONE                               0\n",
              "FLAG_EMAIL                               0\n",
              "OCCUPATION_TYPE                     134203\n",
              "CNT_FAM_MEMBERS                          0"
            ],
            "text/html": [
              "\n",
              "  <div id=\"df-0df2401b-659a-41d0-8836-bc504a68fc97\" class=\"colab-df-container\">\n",
              "    <div>\n",
              "<style scoped>\n",
              "    .dataframe tbody tr th:only-of-type {\n",
              "        vertical-align: middle;\n",
              "    }\n",
              "\n",
              "    .dataframe tbody tr th {\n",
              "        vertical-align: top;\n",
              "    }\n",
              "\n",
              "    .dataframe thead th {\n",
              "        text-align: right;\n",
              "    }\n",
              "</style>\n",
              "<table border=\"1\" class=\"dataframe\">\n",
              "  <thead>\n",
              "    <tr style=\"text-align: right;\">\n",
              "      <th></th>\n",
              "      <th>missinig_value_counts</th>\n",
              "    </tr>\n",
              "  </thead>\n",
              "  <tbody>\n",
              "    <tr>\n",
              "      <th>ID</th>\n",
              "      <td>0</td>\n",
              "    </tr>\n",
              "    <tr>\n",
              "      <th>CODE_GENDER</th>\n",
              "      <td>0</td>\n",
              "    </tr>\n",
              "    <tr>\n",
              "      <th>FLAG_OWN_CAR</th>\n",
              "      <td>0</td>\n",
              "    </tr>\n",
              "    <tr>\n",
              "      <th>FLAG_OWN_REALTY</th>\n",
              "      <td>0</td>\n",
              "    </tr>\n",
              "    <tr>\n",
              "      <th>CNT_CHILDREN</th>\n",
              "      <td>0</td>\n",
              "    </tr>\n",
              "    <tr>\n",
              "      <th>AMT_INCOME_TOTAL</th>\n",
              "      <td>0</td>\n",
              "    </tr>\n",
              "    <tr>\n",
              "      <th>NAME_INCOME_TYPE</th>\n",
              "      <td>0</td>\n",
              "    </tr>\n",
              "    <tr>\n",
              "      <th>NAME_EDUCATION_TYPE</th>\n",
              "      <td>0</td>\n",
              "    </tr>\n",
              "    <tr>\n",
              "      <th>NAME_FAMILY_STATUS</th>\n",
              "      <td>0</td>\n",
              "    </tr>\n",
              "    <tr>\n",
              "      <th>NAME_HOUSING_TYPE</th>\n",
              "      <td>0</td>\n",
              "    </tr>\n",
              "    <tr>\n",
              "      <th>DAYS_BIRTH</th>\n",
              "      <td>0</td>\n",
              "    </tr>\n",
              "    <tr>\n",
              "      <th>DAYS_EMPLOYED</th>\n",
              "      <td>0</td>\n",
              "    </tr>\n",
              "    <tr>\n",
              "      <th>FLAG_MOBIL</th>\n",
              "      <td>0</td>\n",
              "    </tr>\n",
              "    <tr>\n",
              "      <th>FLAG_WORK_PHONE</th>\n",
              "      <td>0</td>\n",
              "    </tr>\n",
              "    <tr>\n",
              "      <th>FLAG_PHONE</th>\n",
              "      <td>0</td>\n",
              "    </tr>\n",
              "    <tr>\n",
              "      <th>FLAG_EMAIL</th>\n",
              "      <td>0</td>\n",
              "    </tr>\n",
              "    <tr>\n",
              "      <th>OCCUPATION_TYPE</th>\n",
              "      <td>134203</td>\n",
              "    </tr>\n",
              "    <tr>\n",
              "      <th>CNT_FAM_MEMBERS</th>\n",
              "      <td>0</td>\n",
              "    </tr>\n",
              "  </tbody>\n",
              "</table>\n",
              "</div>\n",
              "    <div class=\"colab-df-buttons\">\n",
              "\n",
              "  <div class=\"colab-df-container\">\n",
              "    <button class=\"colab-df-convert\" onclick=\"convertToInteractive('df-0df2401b-659a-41d0-8836-bc504a68fc97')\"\n",
              "            title=\"Convert this dataframe to an interactive table.\"\n",
              "            style=\"display:none;\">\n",
              "\n",
              "  <svg xmlns=\"http://www.w3.org/2000/svg\" height=\"24px\" viewBox=\"0 -960 960 960\">\n",
              "    <path d=\"M120-120v-720h720v720H120Zm60-500h600v-160H180v160Zm220 220h160v-160H400v160Zm0 220h160v-160H400v160ZM180-400h160v-160H180v160Zm440 0h160v-160H620v160ZM180-180h160v-160H180v160Zm440 0h160v-160H620v160Z\"/>\n",
              "  </svg>\n",
              "    </button>\n",
              "\n",
              "  <style>\n",
              "    .colab-df-container {\n",
              "      display:flex;\n",
              "      gap: 12px;\n",
              "    }\n",
              "\n",
              "    .colab-df-convert {\n",
              "      background-color: #E8F0FE;\n",
              "      border: none;\n",
              "      border-radius: 50%;\n",
              "      cursor: pointer;\n",
              "      display: none;\n",
              "      fill: #1967D2;\n",
              "      height: 32px;\n",
              "      padding: 0 0 0 0;\n",
              "      width: 32px;\n",
              "    }\n",
              "\n",
              "    .colab-df-convert:hover {\n",
              "      background-color: #E2EBFA;\n",
              "      box-shadow: 0px 1px 2px rgba(60, 64, 67, 0.3), 0px 1px 3px 1px rgba(60, 64, 67, 0.15);\n",
              "      fill: #174EA6;\n",
              "    }\n",
              "\n",
              "    .colab-df-buttons div {\n",
              "      margin-bottom: 4px;\n",
              "    }\n",
              "\n",
              "    [theme=dark] .colab-df-convert {\n",
              "      background-color: #3B4455;\n",
              "      fill: #D2E3FC;\n",
              "    }\n",
              "\n",
              "    [theme=dark] .colab-df-convert:hover {\n",
              "      background-color: #434B5C;\n",
              "      box-shadow: 0px 1px 3px 1px rgba(0, 0, 0, 0.15);\n",
              "      filter: drop-shadow(0px 1px 2px rgba(0, 0, 0, 0.3));\n",
              "      fill: #FFFFFF;\n",
              "    }\n",
              "  </style>\n",
              "\n",
              "    <script>\n",
              "      const buttonEl =\n",
              "        document.querySelector('#df-0df2401b-659a-41d0-8836-bc504a68fc97 button.colab-df-convert');\n",
              "      buttonEl.style.display =\n",
              "        google.colab.kernel.accessAllowed ? 'block' : 'none';\n",
              "\n",
              "      async function convertToInteractive(key) {\n",
              "        const element = document.querySelector('#df-0df2401b-659a-41d0-8836-bc504a68fc97');\n",
              "        const dataTable =\n",
              "          await google.colab.kernel.invokeFunction('convertToInteractive',\n",
              "                                                    [key], {});\n",
              "        if (!dataTable) return;\n",
              "\n",
              "        const docLinkHtml = 'Like what you see? Visit the ' +\n",
              "          '<a target=\"_blank\" href=https://colab.research.google.com/notebooks/data_table.ipynb>data table notebook</a>'\n",
              "          + ' to learn more about interactive tables.';\n",
              "        element.innerHTML = '';\n",
              "        dataTable['output_type'] = 'display_data';\n",
              "        await google.colab.output.renderOutput(dataTable, element);\n",
              "        const docLink = document.createElement('div');\n",
              "        docLink.innerHTML = docLinkHtml;\n",
              "        element.appendChild(docLink);\n",
              "      }\n",
              "    </script>\n",
              "  </div>\n",
              "\n",
              "\n",
              "<div id=\"df-fe23b926-2e8f-4206-bac7-52525c1243c8\">\n",
              "  <button class=\"colab-df-quickchart\" onclick=\"quickchart('df-fe23b926-2e8f-4206-bac7-52525c1243c8')\"\n",
              "            title=\"Suggest charts.\"\n",
              "            style=\"display:none;\">\n",
              "\n",
              "<svg xmlns=\"http://www.w3.org/2000/svg\" height=\"24px\"viewBox=\"0 0 24 24\"\n",
              "     width=\"24px\">\n",
              "    <g>\n",
              "        <path d=\"M19 3H5c-1.1 0-2 .9-2 2v14c0 1.1.9 2 2 2h14c1.1 0 2-.9 2-2V5c0-1.1-.9-2-2-2zM9 17H7v-7h2v7zm4 0h-2V7h2v10zm4 0h-2v-4h2v4z\"/>\n",
              "    </g>\n",
              "</svg>\n",
              "  </button>\n",
              "\n",
              "<style>\n",
              "  .colab-df-quickchart {\n",
              "      --bg-color: #E8F0FE;\n",
              "      --fill-color: #1967D2;\n",
              "      --hover-bg-color: #E2EBFA;\n",
              "      --hover-fill-color: #174EA6;\n",
              "      --disabled-fill-color: #AAA;\n",
              "      --disabled-bg-color: #DDD;\n",
              "  }\n",
              "\n",
              "  [theme=dark] .colab-df-quickchart {\n",
              "      --bg-color: #3B4455;\n",
              "      --fill-color: #D2E3FC;\n",
              "      --hover-bg-color: #434B5C;\n",
              "      --hover-fill-color: #FFFFFF;\n",
              "      --disabled-bg-color: #3B4455;\n",
              "      --disabled-fill-color: #666;\n",
              "  }\n",
              "\n",
              "  .colab-df-quickchart {\n",
              "    background-color: var(--bg-color);\n",
              "    border: none;\n",
              "    border-radius: 50%;\n",
              "    cursor: pointer;\n",
              "    display: none;\n",
              "    fill: var(--fill-color);\n",
              "    height: 32px;\n",
              "    padding: 0;\n",
              "    width: 32px;\n",
              "  }\n",
              "\n",
              "  .colab-df-quickchart:hover {\n",
              "    background-color: var(--hover-bg-color);\n",
              "    box-shadow: 0 1px 2px rgba(60, 64, 67, 0.3), 0 1px 3px 1px rgba(60, 64, 67, 0.15);\n",
              "    fill: var(--button-hover-fill-color);\n",
              "  }\n",
              "\n",
              "  .colab-df-quickchart-complete:disabled,\n",
              "  .colab-df-quickchart-complete:disabled:hover {\n",
              "    background-color: var(--disabled-bg-color);\n",
              "    fill: var(--disabled-fill-color);\n",
              "    box-shadow: none;\n",
              "  }\n",
              "\n",
              "  .colab-df-spinner {\n",
              "    border: 2px solid var(--fill-color);\n",
              "    border-color: transparent;\n",
              "    border-bottom-color: var(--fill-color);\n",
              "    animation:\n",
              "      spin 1s steps(1) infinite;\n",
              "  }\n",
              "\n",
              "  @keyframes spin {\n",
              "    0% {\n",
              "      border-color: transparent;\n",
              "      border-bottom-color: var(--fill-color);\n",
              "      border-left-color: var(--fill-color);\n",
              "    }\n",
              "    20% {\n",
              "      border-color: transparent;\n",
              "      border-left-color: var(--fill-color);\n",
              "      border-top-color: var(--fill-color);\n",
              "    }\n",
              "    30% {\n",
              "      border-color: transparent;\n",
              "      border-left-color: var(--fill-color);\n",
              "      border-top-color: var(--fill-color);\n",
              "      border-right-color: var(--fill-color);\n",
              "    }\n",
              "    40% {\n",
              "      border-color: transparent;\n",
              "      border-right-color: var(--fill-color);\n",
              "      border-top-color: var(--fill-color);\n",
              "    }\n",
              "    60% {\n",
              "      border-color: transparent;\n",
              "      border-right-color: var(--fill-color);\n",
              "    }\n",
              "    80% {\n",
              "      border-color: transparent;\n",
              "      border-right-color: var(--fill-color);\n",
              "      border-bottom-color: var(--fill-color);\n",
              "    }\n",
              "    90% {\n",
              "      border-color: transparent;\n",
              "      border-bottom-color: var(--fill-color);\n",
              "    }\n",
              "  }\n",
              "</style>\n",
              "\n",
              "  <script>\n",
              "    async function quickchart(key) {\n",
              "      const quickchartButtonEl =\n",
              "        document.querySelector('#' + key + ' button');\n",
              "      quickchartButtonEl.disabled = true;  // To prevent multiple clicks.\n",
              "      quickchartButtonEl.classList.add('colab-df-spinner');\n",
              "      try {\n",
              "        const charts = await google.colab.kernel.invokeFunction(\n",
              "            'suggestCharts', [key], {});\n",
              "      } catch (error) {\n",
              "        console.error('Error during call to suggestCharts:', error);\n",
              "      }\n",
              "      quickchartButtonEl.classList.remove('colab-df-spinner');\n",
              "      quickchartButtonEl.classList.add('colab-df-quickchart-complete');\n",
              "    }\n",
              "    (() => {\n",
              "      let quickchartButtonEl =\n",
              "        document.querySelector('#df-fe23b926-2e8f-4206-bac7-52525c1243c8 button');\n",
              "      quickchartButtonEl.style.display =\n",
              "        google.colab.kernel.accessAllowed ? 'block' : 'none';\n",
              "    })();\n",
              "  </script>\n",
              "</div>\n",
              "    </div>\n",
              "  </div>\n"
            ]
          },
          "metadata": {},
          "execution_count": 25
        }
      ]
    },
    {
      "cell_type": "markdown",
      "source": [
        "# consigue un dataframe con solo las columnas de tipo numerico"
      ],
      "metadata": {
        "id": "fVouIjQpOPB0"
      }
    },
    {
      "cell_type": "code",
      "source": [
        "# existe un atributo llamado dtypes, explora que arroja y como podrias usar comprehension de listas para filtrar los tipos de las columnas dentro del .select()"
      ],
      "metadata": {
        "id": "jbhC0kL9OaOo"
      },
      "execution_count": null,
      "outputs": []
    },
    {
      "cell_type": "code",
      "source": [
        "app_record.dtypes"
      ],
      "metadata": {
        "id": "7UlI3yYbo1s7",
        "colab": {
          "base_uri": "https://localhost:8080/"
        },
        "outputId": "43d7bfef-6427-4409-c6ed-e02179745295"
      },
      "execution_count": null,
      "outputs": [
        {
          "output_type": "execute_result",
          "data": {
            "text/plain": [
              "[('ID', 'int'),\n",
              " ('CODE_GENDER', 'string'),\n",
              " ('FLAG_OWN_CAR', 'string'),\n",
              " ('FLAG_OWN_REALTY', 'string'),\n",
              " ('CNT_CHILDREN', 'int'),\n",
              " ('AMT_INCOME_TOTAL', 'double'),\n",
              " ('NAME_INCOME_TYPE', 'string'),\n",
              " ('NAME_EDUCATION_TYPE', 'string'),\n",
              " ('NAME_FAMILY_STATUS', 'string'),\n",
              " ('NAME_HOUSING_TYPE', 'string'),\n",
              " ('DAYS_BIRTH', 'int'),\n",
              " ('DAYS_EMPLOYED', 'int'),\n",
              " ('FLAG_MOBIL', 'int'),\n",
              " ('FLAG_WORK_PHONE', 'int'),\n",
              " ('FLAG_PHONE', 'int'),\n",
              " ('FLAG_EMAIL', 'int'),\n",
              " ('OCCUPATION_TYPE', 'string'),\n",
              " ('CNT_FAM_MEMBERS', 'double')]"
            ]
          },
          "metadata": {},
          "execution_count": 27
        }
      ]
    },
    {
      "cell_type": "code",
      "source": [
        "#Solucion\n",
        "app_record.select([column for column, dtype in app_record.dtypes if dtype != \"string\"]).show()"
      ],
      "metadata": {
        "id": "9orhvnRPo1xz",
        "colab": {
          "base_uri": "https://localhost:8080/"
        },
        "outputId": "ac932a1a-8d53-4043-9686-f68fe5bc48fc"
      },
      "execution_count": null,
      "outputs": [
        {
          "output_type": "stream",
          "name": "stdout",
          "text": [
            "+-------+------------+----------------+----------+-------------+----------+---------------+----------+----------+---------------+\n",
            "|     ID|CNT_CHILDREN|AMT_INCOME_TOTAL|DAYS_BIRTH|DAYS_EMPLOYED|FLAG_MOBIL|FLAG_WORK_PHONE|FLAG_PHONE|FLAG_EMAIL|CNT_FAM_MEMBERS|\n",
            "+-------+------------+----------------+----------+-------------+----------+---------------+----------+----------+---------------+\n",
            "|5008804|           0|        427500.0|    -12005|        -4542|         1|              1|         0|         0|            2.0|\n",
            "|5008805|           0|        427500.0|    -12005|        -4542|         1|              1|         0|         0|            2.0|\n",
            "|5008806|           0|        112500.0|    -21474|        -1134|         1|              0|         0|         0|            2.0|\n",
            "|5008808|           0|        270000.0|    -19110|        -3051|         1|              0|         1|         1|            1.0|\n",
            "|5008809|           0|        270000.0|    -19110|        -3051|         1|              0|         1|         1|            1.0|\n",
            "|5008810|           0|        270000.0|    -19110|        -3051|         1|              0|         1|         1|            1.0|\n",
            "|5008811|           0|        270000.0|    -19110|        -3051|         1|              0|         1|         1|            1.0|\n",
            "|5008812|           0|        283500.0|    -22464|       365243|         1|              0|         0|         0|            1.0|\n",
            "|5008813|           0|        283500.0|    -22464|       365243|         1|              0|         0|         0|            1.0|\n",
            "|5008814|           0|        283500.0|    -22464|       365243|         1|              0|         0|         0|            1.0|\n",
            "|5008815|           0|        270000.0|    -16872|         -769|         1|              1|         1|         1|            2.0|\n",
            "|5112956|           0|        270000.0|    -16872|         -769|         1|              1|         1|         1|            2.0|\n",
            "|6153651|           0|        270000.0|    -16872|         -769|         1|              1|         1|         1|            2.0|\n",
            "|5008819|           0|        135000.0|    -17778|        -1194|         1|              0|         0|         0|            2.0|\n",
            "|5008820|           0|        135000.0|    -17778|        -1194|         1|              0|         0|         0|            2.0|\n",
            "|5008821|           0|        135000.0|    -17778|        -1194|         1|              0|         0|         0|            2.0|\n",
            "|5008822|           0|        135000.0|    -17778|        -1194|         1|              0|         0|         0|            2.0|\n",
            "|5008823|           0|        135000.0|    -17778|        -1194|         1|              0|         0|         0|            2.0|\n",
            "|5008824|           0|        135000.0|    -17778|        -1194|         1|              0|         0|         0|            2.0|\n",
            "|5008825|           0|        130500.0|    -10669|        -1103|         1|              0|         0|         0|            2.0|\n",
            "+-------+------------+----------------+----------+-------------+----------+---------------+----------+----------+---------------+\n",
            "only showing top 20 rows\n",
            "\n"
          ]
        }
      ]
    },
    {
      "cell_type": "markdown",
      "source": [
        "# consigue un dataframe con solo las columnas con texto"
      ],
      "metadata": {
        "id": "6HBcHnskOpxB"
      }
    },
    {
      "cell_type": "code",
      "source": [
        "#Solucion parecida a la anterior\n",
        "app_record.select([column for column, dtype in app_record.dtypes if dtype == \"string\"]).show()"
      ],
      "metadata": {
        "id": "oJ3lwOFkDF16",
        "colab": {
          "base_uri": "https://localhost:8080/"
        },
        "outputId": "c643f96f-183d-44ed-cfab-71de30f730b4"
      },
      "execution_count": null,
      "outputs": [
        {
          "output_type": "stream",
          "name": "stdout",
          "text": [
            "+-----------+------------+---------------+--------------------+--------------------+--------------------+-----------------+---------------+\n",
            "|CODE_GENDER|FLAG_OWN_CAR|FLAG_OWN_REALTY|    NAME_INCOME_TYPE| NAME_EDUCATION_TYPE|  NAME_FAMILY_STATUS|NAME_HOUSING_TYPE|OCCUPATION_TYPE|\n",
            "+-----------+------------+---------------+--------------------+--------------------+--------------------+-----------------+---------------+\n",
            "|          M|           Y|              Y|             Working|    Higher education|      Civil marriage| Rented apartment|           NULL|\n",
            "|          M|           Y|              Y|             Working|    Higher education|      Civil marriage| Rented apartment|           NULL|\n",
            "|          M|           Y|              Y|             Working|Secondary / secon...|             Married|House / apartment| Security staff|\n",
            "|          F|           N|              Y|Commercial associate|Secondary / secon...|Single / not married|House / apartment|    Sales staff|\n",
            "|          F|           N|              Y|Commercial associate|Secondary / secon...|Single / not married|House / apartment|    Sales staff|\n",
            "|          F|           N|              Y|Commercial associate|Secondary / secon...|Single / not married|House / apartment|    Sales staff|\n",
            "|          F|           N|              Y|Commercial associate|Secondary / secon...|Single / not married|House / apartment|    Sales staff|\n",
            "|          F|           N|              Y|           Pensioner|    Higher education|           Separated|House / apartment|           NULL|\n",
            "|          F|           N|              Y|           Pensioner|    Higher education|           Separated|House / apartment|           NULL|\n",
            "|          F|           N|              Y|           Pensioner|    Higher education|           Separated|House / apartment|           NULL|\n",
            "|          M|           Y|              Y|             Working|    Higher education|             Married|House / apartment|    Accountants|\n",
            "|          M|           Y|              Y|             Working|    Higher education|             Married|House / apartment|    Accountants|\n",
            "|          M|           Y|              Y|             Working|    Higher education|             Married|House / apartment|    Accountants|\n",
            "|          M|           Y|              Y|Commercial associate|Secondary / secon...|             Married|House / apartment|       Laborers|\n",
            "|          M|           Y|              Y|Commercial associate|Secondary / secon...|             Married|House / apartment|       Laborers|\n",
            "|          M|           Y|              Y|Commercial associate|Secondary / secon...|             Married|House / apartment|       Laborers|\n",
            "|          M|           Y|              Y|Commercial associate|Secondary / secon...|             Married|House / apartment|       Laborers|\n",
            "|          M|           Y|              Y|Commercial associate|Secondary / secon...|             Married|House / apartment|       Laborers|\n",
            "|          M|           Y|              Y|Commercial associate|Secondary / secon...|             Married|House / apartment|       Laborers|\n",
            "|          F|           Y|              N|             Working|   Incomplete higher|             Married|House / apartment|    Accountants|\n",
            "+-----------+------------+---------------+--------------------+--------------------+--------------------+-----------------+---------------+\n",
            "only showing top 20 rows\n",
            "\n"
          ]
        }
      ]
    },
    {
      "cell_type": "markdown",
      "source": [
        "# realiza un conteo de los distintos tipos de ingresos que existen"
      ],
      "metadata": {
        "id": "JG3b75fBPAnx"
      }
    },
    {
      "cell_type": "code",
      "source": [
        "#Investiga la funcion distinct() para obtener los distintos tipos de ingresos\n",
        "app_record.select('NAME_INCOME_TYPE').distinct().show()"
      ],
      "metadata": {
        "id": "F60iWk2irDX4",
        "colab": {
          "base_uri": "https://localhost:8080/"
        },
        "outputId": "c3b198b4-02a6-4d07-c96f-89050d188c0c"
      },
      "execution_count": null,
      "outputs": [
        {
          "output_type": "stream",
          "name": "stdout",
          "text": [
            "+--------------------+\n",
            "|    NAME_INCOME_TYPE|\n",
            "+--------------------+\n",
            "|             Student|\n",
            "|Commercial associate|\n",
            "|       State servant|\n",
            "|             Working|\n",
            "|           Pensioner|\n",
            "+--------------------+\n",
            "\n"
          ]
        }
      ]
    },
    {
      "cell_type": "code",
      "source": [
        "#Usa groupby , count y sort\n",
        "app_record.groupBy('NAME_INCOME_TYPE').count().sort(\"count\", ascending=False).show()"
      ],
      "metadata": {
        "id": "fcoYu5c9DG1f",
        "colab": {
          "base_uri": "https://localhost:8080/"
        },
        "outputId": "67c9bd44-6f41-422a-bc3d-a809247282e1"
      },
      "execution_count": null,
      "outputs": [
        {
          "output_type": "stream",
          "name": "stdout",
          "text": [
            "+--------------------+------+\n",
            "|    NAME_INCOME_TYPE| count|\n",
            "+--------------------+------+\n",
            "|             Working|226104|\n",
            "|Commercial associate|100757|\n",
            "|           Pensioner| 75493|\n",
            "|       State servant| 36186|\n",
            "|             Student|    17|\n",
            "+--------------------+------+\n",
            "\n"
          ]
        }
      ]
    },
    {
      "cell_type": "markdown",
      "source": [
        "# que tipo de income, educacion y genero tiene la persona que gana mas y la persona que gana la  ganancia media (o la mas cercana)"
      ],
      "metadata": {
        "id": "x4QWb7yiQ6Xx"
      }
    },
    {
      "cell_type": "code",
      "source": [
        "# de pyspark.sql.functions puedes usar la funcion max y/o, pero tambien podrias no importar nada y usar el metodo\n",
        "# .agg() no tengas miedo de probar varias formas que se te ocurran\n",
        "# Puede que necesite usar el metodo .first() junto con un indexing, asi -> .first()[0]"
      ],
      "metadata": {
        "id": "nX7eHTOmRvEV"
      },
      "execution_count": null,
      "outputs": []
    },
    {
      "cell_type": "code",
      "source": [
        "from pyspark.sql.functions import max, mean"
      ],
      "metadata": {
        "id": "b5BOFUFaroaR"
      },
      "execution_count": null,
      "outputs": []
    },
    {
      "cell_type": "code",
      "source": [
        "mx_value = app_record.select(max(col('AMT_INCOME_TOTAL'))).first()[0]"
      ],
      "metadata": {
        "id": "0Op-FLdIshTm"
      },
      "execution_count": null,
      "outputs": []
    },
    {
      "cell_type": "code",
      "source": [
        "mx_value"
      ],
      "metadata": {
        "id": "uaU1cQ5BroeJ",
        "colab": {
          "base_uri": "https://localhost:8080/"
        },
        "outputId": "61928872-90d2-4114-98dc-7970c034f2d8"
      },
      "execution_count": null,
      "outputs": [
        {
          "output_type": "execute_result",
          "data": {
            "text/plain": [
              "6750000.0"
            ]
          },
          "metadata": {},
          "execution_count": 35
        }
      ]
    },
    {
      "cell_type": "code",
      "source": [
        "app_record.select(\"*\").where(col('AMT_INCOME_TOTAL') == float(mx_value)).show()"
      ],
      "metadata": {
        "id": "_mWp0W86roht",
        "colab": {
          "base_uri": "https://localhost:8080/"
        },
        "outputId": "3dc2b0b5-cbc3-4259-9df7-5c217ca8062a"
      },
      "execution_count": null,
      "outputs": [
        {
          "output_type": "stream",
          "name": "stdout",
          "text": [
            "+-------+-----------+------------+---------------+------------+----------------+----------------+-------------------+------------------+-----------------+----------+-------------+----------+---------------+----------+----------+---------------+---------------+\n",
            "|     ID|CODE_GENDER|FLAG_OWN_CAR|FLAG_OWN_REALTY|CNT_CHILDREN|AMT_INCOME_TOTAL|NAME_INCOME_TYPE|NAME_EDUCATION_TYPE|NAME_FAMILY_STATUS|NAME_HOUSING_TYPE|DAYS_BIRTH|DAYS_EMPLOYED|FLAG_MOBIL|FLAG_WORK_PHONE|FLAG_PHONE|FLAG_EMAIL|OCCUPATION_TYPE|CNT_FAM_MEMBERS|\n",
            "+-------+-----------+------------+---------------+------------+----------------+----------------+-------------------+------------------+-----------------+----------+-------------+----------+---------------+----------+----------+---------------+---------------+\n",
            "|5987963|          M|           Y|              N|           0|       6750000.0|         Working|   Higher education|           Married|House / apartment|    -19341|         -443|         1|              1|         1|         0|       Laborers|            2.0|\n",
            "|5987964|          M|           Y|              N|           0|       6750000.0|         Working|   Higher education|           Married|House / apartment|    -19341|         -443|         1|              1|         1|         0|       Laborers|            2.0|\n",
            "|5987966|          M|           Y|              N|           0|       6750000.0|         Working|   Higher education|           Married|House / apartment|    -19341|         -443|         1|              1|         1|         0|       Laborers|            2.0|\n",
            "|5987967|          M|           Y|              N|           0|       6750000.0|         Working|   Higher education|           Married|House / apartment|    -19341|         -443|         1|              1|         1|         0|       Laborers|            2.0|\n",
            "|5987968|          M|           Y|              N|           0|       6750000.0|         Working|   Higher education|           Married|House / apartment|    -19341|         -443|         1|              1|         1|         0|       Laborers|            2.0|\n",
            "|5987969|          M|           Y|              N|           0|       6750000.0|         Working|   Higher education|           Married|House / apartment|    -19341|         -443|         1|              1|         1|         0|       Laborers|            2.0|\n",
            "|7987964|          M|           Y|              N|           0|       6750000.0|         Working|   Higher education|           Married|House / apartment|    -19341|         -443|         1|              1|         1|         0|       Laborers|            2.0|\n",
            "+-------+-----------+------------+---------------+------------+----------------+----------------+-------------------+------------------+-----------------+----------+-------------+----------+---------------+----------+----------+---------------+---------------+\n",
            "\n"
          ]
        }
      ]
    },
    {
      "cell_type": "code",
      "source": [
        "mean_value = app_record.select(mean(col('AMT_INCOME_TOTAL'))).first()[0]"
      ],
      "metadata": {
        "id": "4H3UdDRqTYcs"
      },
      "execution_count": null,
      "outputs": []
    },
    {
      "cell_type": "code",
      "source": [
        "app_record.select(\"*\").where((col('AMT_INCOME_TOTAL') <= float(mean_value) + 50) & (col('AMT_INCOME_TOTAL') >= float(mean_value) - 50)).show()"
      ],
      "metadata": {
        "colab": {
          "base_uri": "https://localhost:8080/"
        },
        "id": "gxUp7bNcTf0a",
        "outputId": "52793f4e-1e18-4446-efeb-82fca706d098"
      },
      "execution_count": null,
      "outputs": [
        {
          "output_type": "stream",
          "name": "stdout",
          "text": [
            "+-------+-----------+------------+---------------+------------+----------------+--------------------+-------------------+--------------------+-----------------+----------+-------------+----------+---------------+----------+----------+---------------+---------------+\n",
            "|     ID|CODE_GENDER|FLAG_OWN_CAR|FLAG_OWN_REALTY|CNT_CHILDREN|AMT_INCOME_TOTAL|    NAME_INCOME_TYPE|NAME_EDUCATION_TYPE|  NAME_FAMILY_STATUS|NAME_HOUSING_TYPE|DAYS_BIRTH|DAYS_EMPLOYED|FLAG_MOBIL|FLAG_WORK_PHONE|FLAG_PHONE|FLAG_EMAIL|OCCUPATION_TYPE|CNT_FAM_MEMBERS|\n",
            "+-------+-----------+------------+---------------+------------+----------------+--------------------+-------------------+--------------------+-----------------+----------+-------------+----------+---------------+----------+----------+---------------+---------------+\n",
            "|5438254|          M|           Y|              N|           0|        187497.0|Commercial associate|  Incomplete higher|Single / not married|House / apartment|     -7764|         -208|         1|              1|         0|         0|    Sales staff|            1.0|\n",
            "+-------+-----------+------------+---------------+------------+----------------+--------------------+-------------------+--------------------+-----------------+----------+-------------+----------+---------------+----------+----------+---------------+---------------+\n",
            "\n"
          ]
        }
      ]
    },
    {
      "cell_type": "markdown",
      "source": [
        "## como es la media de ingresos por genero"
      ],
      "metadata": {
        "id": "8ltMIknmXtkp"
      }
    },
    {
      "cell_type": "code",
      "source": [
        "mean_inc_gender = app_record.groupBy(\"CODE_GENDER\").agg(mean('AMT_INCOME_TOTAL').alias('media_ingresos'))\n",
        "mean_inc_gender.show()"
      ],
      "metadata": {
        "id": "t2cECjlJExEE",
        "colab": {
          "base_uri": "https://localhost:8080/"
        },
        "outputId": "0e00c751-c009-4973-a88e-9e5d70ce2aec"
      },
      "execution_count": null,
      "outputs": [
        {
          "output_type": "stream",
          "name": "stdout",
          "text": [
            "+-----------+------------------+\n",
            "|CODE_GENDER|    media_ingresos|\n",
            "+-----------+------------------+\n",
            "|          F|174523.04091044018|\n",
            "|          M| 214086.6388684194|\n",
            "+-----------+------------------+\n",
            "\n"
          ]
        }
      ]
    },
    {
      "cell_type": "markdown",
      "source": [
        "# outliers\n",
        "\n",
        "una estrategia comun para conseguir outliers es ubicar aquellos puntos de la data que caigan fuera del rango ```-3 > z_score > 3```, usando esta estrategia conseguir el porcentaje de outliers de los ingresos, usar unicamente las funciones de ```pyspark.sql.functions```\n",
        "\n",
        "Z = (valor - valor_medio) / desviacion_estandar"
      ],
      "metadata": {
        "id": "tqLzxg3gYad2"
      }
    },
    {
      "cell_type": "code",
      "source": [
        "# de pyspark.sql.functions tienes las funciones stddev y mean, usa un .withColumn() y luego tal vez un filtrado"
      ],
      "metadata": {
        "id": "4ieSvvLbbIWG"
      },
      "execution_count": null,
      "outputs": []
    },
    {
      "cell_type": "code",
      "source": [
        "from pyspark.sql.functions import stddev, mean, col"
      ],
      "metadata": {
        "id": "RavXAuCEuVZU"
      },
      "execution_count": null,
      "outputs": []
    },
    {
      "cell_type": "code",
      "source": [
        "mean_inc_val = app_record.select(mean(col(\"AMT_INCOME_TOTAL\"))).first()[0]\n",
        "stdev_inc_val = app_record.select(stddev(col(\"AMT_INCOME_TOTAL\"))).first()[0]"
      ],
      "metadata": {
        "id": "VRN-zf0DuVdc"
      },
      "execution_count": null,
      "outputs": []
    },
    {
      "cell_type": "code",
      "source": [
        "app_record = app_record.withColumn(\"z_score\", (col(\"AMT_INCOME_TOTAL\") - mean_inc_val) / stdev_inc_val)"
      ],
      "metadata": {
        "id": "0jtrwzYruZJR"
      },
      "execution_count": null,
      "outputs": []
    },
    {
      "cell_type": "code",
      "source": [
        "cantidad_outliers = app_record.select(\"*\").where((col(\"z_score\") < -3) | (col(\"z_score\") > 3)).count()"
      ],
      "metadata": {
        "id": "pj7F6gZ3Wj6y"
      },
      "execution_count": null,
      "outputs": []
    },
    {
      "cell_type": "code",
      "source": [
        "cantidad_total = app_record.count()"
      ],
      "metadata": {
        "id": "xI7yZZ60uZNO"
      },
      "execution_count": null,
      "outputs": []
    },
    {
      "cell_type": "code",
      "source": [
        "(cantidad_outliers / cantidad_total) * 100"
      ],
      "metadata": {
        "id": "JhMD7MlBuZQ6",
        "colab": {
          "base_uri": "https://localhost:8080/"
        },
        "outputId": "31b25a9c-6c33-4f9a-f264-daff3e53c2ea"
      },
      "execution_count": null,
      "outputs": [
        {
          "output_type": "execute_result",
          "data": {
            "text/plain": [
              "1.203036321390378"
            ]
          },
          "metadata": {},
          "execution_count": 46
        }
      ]
    },
    {
      "cell_type": "markdown",
      "source": [
        "# realiza para cada tipo de educacion en cada genero un conteo y la media de ingresos y guarda el resultado en un archivo csv"
      ],
      "metadata": {
        "id": "Wqj1TRtddPl6"
      }
    },
    {
      "cell_type": "code",
      "source": [
        "app_record.columns"
      ],
      "metadata": {
        "colab": {
          "base_uri": "https://localhost:8080/"
        },
        "id": "W1bplwsiYa4p",
        "outputId": "50819f9c-8d4a-4337-e67d-f6f1cc277e76"
      },
      "execution_count": null,
      "outputs": [
        {
          "output_type": "execute_result",
          "data": {
            "text/plain": [
              "['ID',\n",
              " 'CODE_GENDER',\n",
              " 'FLAG_OWN_CAR',\n",
              " 'FLAG_OWN_REALTY',\n",
              " 'CNT_CHILDREN',\n",
              " 'AMT_INCOME_TOTAL',\n",
              " 'NAME_INCOME_TYPE',\n",
              " 'NAME_EDUCATION_TYPE',\n",
              " 'NAME_FAMILY_STATUS',\n",
              " 'NAME_HOUSING_TYPE',\n",
              " 'DAYS_BIRTH',\n",
              " 'DAYS_EMPLOYED',\n",
              " 'FLAG_MOBIL',\n",
              " 'FLAG_WORK_PHONE',\n",
              " 'FLAG_PHONE',\n",
              " 'FLAG_EMAIL',\n",
              " 'OCCUPATION_TYPE',\n",
              " 'CNT_FAM_MEMBERS',\n",
              " 'z_score']"
            ]
          },
          "metadata": {},
          "execution_count": 47
        }
      ]
    },
    {
      "cell_type": "code",
      "source": [
        "# sabias que dentro del metodo groupBy se puede incluir una lista con nombres?? y el metodo .write() con el argumento header=True seguro te ayuda...\n",
        "result_df = app_record.groupBy('NAME_EDUCATION_TYPE', 'CODE_GENDER').agg(\n",
        "    count('*').alias('conteo'),\n",
        "    mean('AMT_INCOME_TOTAL').alias('media_ingresos'))\n",
        "\n",
        "result_df = result_df.orderBy('CODE_GENDER')\n",
        "\n",
        "result_df.write.csv('result.csv', mode='overwrite', header=True)\n",
        "\n",
        "result_df.show()"
      ],
      "metadata": {
        "id": "gqLFs8yTFSPz",
        "colab": {
          "base_uri": "https://localhost:8080/"
        },
        "outputId": "b3b65081-cd16-4042-c42f-b83ebdda80de"
      },
      "execution_count": null,
      "outputs": [
        {
          "output_type": "stream",
          "name": "stdout",
          "text": [
            "+--------------------+-----------+------+------------------+\n",
            "| NAME_EDUCATION_TYPE|CODE_GENDER|conteo|    media_ingresos|\n",
            "+--------------------+-----------+------+------------------+\n",
            "|     Academic degree|          F|   251|233049.80079681275|\n",
            "|   Incomplete higher|          F|  8578| 188778.5011657729|\n",
            "|Secondary / secon...|          F|203078| 160690.2914929239|\n",
            "|     Lower secondary|          F|  2433|128601.53637484586|\n",
            "|    Higher education|          F| 80100| 209278.1039808989|\n",
            "|    Higher education|          M| 37422|262128.04610389608|\n",
            "|     Academic degree|          M|    61|272139.34426229505|\n",
            "|   Incomplete higher|          M|  6273| 232700.6169296987|\n",
            "|Secondary / secon...|          M| 98743| 195433.0775092918|\n",
            "|     Lower secondary|          M|  1618| 166989.2150803461|\n",
            "+--------------------+-----------+------+------------------+\n",
            "\n"
          ]
        }
      ]
    },
    {
      "cell_type": "markdown",
      "source": [
        "# realizar un join de ambas tablas por ID y conseguir el un conteo de cada toy_status por genero"
      ],
      "metadata": {
        "id": "6W52mb13g1aO"
      }
    },
    {
      "cell_type": "code",
      "source": [
        "# la clase asincronica y el ejercicio anterior seguro te ayudan en esta labor!\n",
        "joined_df = app_record.join(credit_df, on='ID', how='inner')"
      ],
      "metadata": {
        "id": "7lenvx7alzW7"
      },
      "execution_count": null,
      "outputs": []
    },
    {
      "cell_type": "code",
      "source": [
        "toystatus_count_gender = joined_df.groupBy('CODE_GENDER', 'TOY_STATUS').count()"
      ],
      "metadata": {
        "id": "jj2FYssNaO4t"
      },
      "execution_count": null,
      "outputs": []
    },
    {
      "cell_type": "code",
      "source": [
        "toystatus_count_gender = toystatus_count_gender.orderBy('CODE_GENDER')\n",
        "toystatus_count_gender.show()"
      ],
      "metadata": {
        "colab": {
          "base_uri": "https://localhost:8080/"
        },
        "id": "hQKgHv84aao6",
        "outputId": "b64cf7da-ac2d-4242-9252-3fe9479e2c1a"
      },
      "execution_count": null,
      "outputs": [
        {
          "output_type": "stream",
          "name": "stdout",
          "text": [
            "+-----------+----------+------+\n",
            "|CODE_GENDER|TOY_STATUS| count|\n",
            "+-----------+----------+------+\n",
            "|          F|       bad|154830|\n",
            "|          F|      good|103868|\n",
            "|          F|   regular|260153|\n",
            "|          M|   regular|127987|\n",
            "|          M|      good| 52302|\n",
            "|          M|       bad| 78575|\n",
            "+-----------+----------+------+\n",
            "\n"
          ]
        }
      ]
    },
    {
      "cell_type": "code",
      "source": [
        "toystatus_count_gender.write.csv('toystatus_count_gender.csv', mode='overwrite', header=True)"
      ],
      "metadata": {
        "id": "TRUEmJUMalZK"
      },
      "execution_count": null,
      "outputs": []
    }
  ]
}